{
 "cells": [
  {
   "cell_type": "code",
   "execution_count": 6,
   "metadata": {},
   "outputs": [],
   "source": [
    "import pandas as pd\n",
    "\n",
    "# 读取第一个文件\n",
    "raw_filename = '2024M7_工商版all_BS70-180_add_SBERT_similarity'\n",
    "file1 = pd.read_csv(raw_filename + '.csv')\n",
    "# 读取第二个文件\n",
    "file2 = pd.read_csv(r'C:\\Users\\user\\OneDrive\\桌面\\240822 正確使用MFCC, SBERT資料前處理流程dis02, meal1234\\2. 計算訓練集MFCC, SBERT\\M7\\M7_CHA_6-16S_mfcc_fs_euclidean_distances_median.csv')\n",
    "\n",
    "# 合并两个文件，基于filename列 \n",
    "# ,'SBERT_median_similarity'\n",
    "merged = pd.merge(file1, file2[['filename','euclidean_distance_med' ]], on='filename', how='left')\n",
    "\n",
    "# 保存合并后的文件\n",
    "merged.to_csv(raw_filename + '_add_euclidean_distance_med.csv', index=False)\n"
   ]
  }
 ],
 "metadata": {
  "kernelspec": {
   "display_name": "base",
   "language": "python",
   "name": "python3"
  },
  "language_info": {
   "codemirror_mode": {
    "name": "ipython",
    "version": 3
   },
   "file_extension": ".py",
   "mimetype": "text/x-python",
   "name": "python",
   "nbconvert_exporter": "python",
   "pygments_lexer": "ipython3",
   "version": "3.9.13"
  }
 },
 "nbformat": 4,
 "nbformat_minor": 2
}
