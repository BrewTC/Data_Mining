{
 "cells": [
  {
   "cell_type": "code",
   "execution_count": 1,
   "metadata": {},
   "outputs": [
    {
     "data": {
      "text/plain": [
       "432"
      ]
     },
     "execution_count": 1,
     "metadata": {},
     "output_type": "execute_result"
    }
   ],
   "source": [
    "import pandas as pd\n",
    "\n",
    "df = pd.read_csv(r'C:\\Users\\user\\OneDrive\\桌面\\240822 正確使用MFCC, SBERT資料前處理流程dis02, meal1234\\3. 將計算好的MFCC, SBERT加回原始工商版資料集\\2024M7_工商版all_BS70-180_add_SBERT_similarity_add_euclidean_distance_med.csv')\n",
    "\n",
    "len(df.columns)"
   ]
  },
  {
   "cell_type": "code",
   "execution_count": 2,
   "metadata": {},
   "outputs": [],
   "source": [
    "# 筛选 inside_filtered_df 和 outside_filtered_df\n",
    "inside_filtered_df = df[\n",
    "    (df['SBERT_median_similarity'] >= -0.08) & (df['SBERT_median_similarity'] <= 0.24) &\n",
    "    (df['euclidean_distance_med'] >= 341.54) & (df['euclidean_distance_med'] <= 389.97)\n",
    "]\n",
    "\n",
    "outside_filtered_df = df[~df.index.isin(inside_filtered_df.index)]\n",
    "\n",
    "# 按 'diabetes' 列分割数据\n",
    "inside_filtered_diabetes_0 = inside_filtered_df[inside_filtered_df['diabetes'] == 0]\n",
    "inside_filtered_diabetes_2 = inside_filtered_df[inside_filtered_df['diabetes'] == 2]\n",
    "\n",
    "outside_filtered_diabetes_0 = outside_filtered_df[outside_filtered_df['diabetes'] == 0]\n",
    "outside_filtered_diabetes_2 = outside_filtered_df[outside_filtered_df['diabetes'] == 2]\n",
    "\n",
    "# 保存数据到 CSV 文件\n",
    "date = 'M7_'\n",
    "inside_filtered_diabetes_0.to_csv(date + 'inside_filtered_diabetes_0.csv', index=False)\n",
    "inside_filtered_diabetes_2.to_csv(date + 'inside_filtered_diabetes_2.csv', index=False)\n",
    "outside_filtered_diabetes_0.to_csv(date + 'outside_filtered_diabetes_0.csv', index=False)\n",
    "outside_filtered_diabetes_2.to_csv(date + 'outside_filtered_diabetes_2.csv', index=False)\n"
   ]
  }
 ],
 "metadata": {
  "kernelspec": {
   "display_name": "py3813_scikit-learn0221",
   "language": "python",
   "name": "python3"
  },
  "language_info": {
   "codemirror_mode": {
    "name": "ipython",
    "version": 3
   },
   "file_extension": ".py",
   "mimetype": "text/x-python",
   "name": "python",
   "nbconvert_exporter": "python",
   "pygments_lexer": "ipython3",
   "version": "3.9.13"
  }
 },
 "nbformat": 4,
 "nbformat_minor": 2
}
