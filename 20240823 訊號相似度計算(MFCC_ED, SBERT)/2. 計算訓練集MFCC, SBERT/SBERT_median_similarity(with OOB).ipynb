{
 "cells": [
  {
   "cell_type": "markdown",
   "metadata": {},
   "source": [
    "### 袋外相似度計算(單筆加入原始MS資料進行中位數相似度計算)"
   ]
  },
  {
   "cell_type": "code",
   "execution_count": 6,
   "metadata": {},
   "outputs": [
    {
     "name": "stdout",
     "output_type": "stream",
     "text": [
      "原始資料shape: (35817, 5001)\n",
      "OOB資料shape: (888, 5001)\n"
     ]
    },
    {
     "name": "stderr",
     "output_type": "stream",
     "text": [
      "100%|██████████| 888/888 [08:15<00:00,  1.79it/s]\n"
     ]
    },
    {
     "name": "stdout",
     "output_type": "stream",
     "text": [
      "(888, 2)\n",
      "                filename  SBERT_median_similarity\n",
      "0  20240701030903_042169                -0.001030\n",
      "1  20240701093119_011108                -0.000425\n",
      "2  20240701095227_008400                 0.000147\n",
      "3  20240701110216_031745                -0.003103\n",
      "4  20240701114008_034928                -0.003772\n"
     ]
    }
   ],
   "source": [
    "import pandas as pd\n",
    "import numpy as np\n",
    "from sklearn.metrics.pairwise import cosine_similarity\n",
    "\n",
    "df_a = pd.read_csv('./df_raw_ms/22-23feedback切訊號及過濾波_500.csv')\n",
    "df_b = pd.read_csv('./df_raw_ms/24M1-M5feedback切訊號及過濾波_500.csv')\n",
    "df_raw_ms = pd.concat([df_a, df_b], axis=0)\n",
    "\n",
    "# 原始資料的filename\n",
    "# df_raw_ms_filenames = df_raw_ms.iloc[:, 0].values # 'filename'\n",
    "\n",
    "# 原始資料的嵌入向量\n",
    "df_raw_ms_embeddings = df_raw_ms.iloc[:, 1:].values # 'single_5000'\n",
    "\n",
    "# 計算df_raw_ms內部相似度的中位數\n",
    "# precomputed_median = np.median(cosine_similarity(df_raw_ms_embeddings), axis=1)\n",
    "# print('df_raw_ms內部相似度的中位數:', precomputed_median.shape)\n",
    "\n",
    "# OOB data\n",
    "df_oob = pd.read_csv('M7_CHA_6-16S.csv')\n",
    "print('原始資料shape:', df_raw_ms.shape)\n",
    "print('OOB資料shape:', df_oob.shape)\n",
    "# ------------------------------------------------------------------------------------------------------------------------------------------------\n",
    "from joblib import Parallel, delayed\n",
    "from tqdm import tqdm\n",
    "\n",
    "# 定義計算相似度的函數\n",
    "def compute_similarity(row_oob):\n",
    "    filename_oob = row_oob.iloc[0]\n",
    "    embedding_oob = row_oob.iloc[1:].values.reshape(1, -1)\n",
    "    oob_similarity_scores = cosine_similarity(embedding_oob, df_raw_ms_embeddings).flatten()\n",
    "    median_similarity = np.median(oob_similarity_scores)\n",
    "    print('OOB文件名:', filename_oob, '中位數相似度:', median_similarity)\n",
    "    return {\"filename\": filename_oob, \"SBERT_median_similarity\": median_similarity}\n",
    "\n",
    "# 使用並行計算處理袋外測試資料的每一行\n",
    "oob_median_similarities = Parallel(n_jobs=4)(delayed(compute_similarity)(row_oob) for _, row_oob in tqdm(df_oob.iterrows(), total=df_oob.shape[0]))\n",
    "\n",
    "# 將結果保存為DataFrame\n",
    "oob_median_df = pd.DataFrame(oob_median_similarities)\n",
    "print(oob_median_df.shape)\n",
    "print(oob_median_df.head(5))\n",
    "\n",
    "# 保存結果到CSV文件\n",
    "oob_median_df.to_csv('2024M7 OOB_median_similarity.csv', index=False)"
   ]
  },
  {
   "cell_type": "markdown",
   "metadata": {},
   "source": [
    "### 袋內相似度計算(全部原始MS資料進行中位數相似度計算，取filename自身以外的中位數相似度)"
   ]
  },
  {
   "cell_type": "code",
   "execution_count": 5,
   "metadata": {},
   "outputs": [],
   "source": [
    "from sklearn.metrics.pairwise import cosine_similarity\n",
    "import numpy as np\n",
    "import pandas as pd\n",
    "\n",
    "# 读取CSV文件到DataFrame中\n",
    "df = pd.read_csv('22-24M5_filtered_no_diabetes_mealstatus.csv')\n",
    "\n",
    "# 提取文件名和嵌入向量\n",
    "filenames = df.iloc[:, 0].values\n",
    "embeddings = df.iloc[:, 1:].values\n",
    "\n",
    "# 计算余弦相似度矩阵\n",
    "similarities = cosine_similarity(embeddings)\n",
    "\n",
    "# 用于保存文件名和中位数相似度的列表\n",
    "median_similarities = []\n",
    "\n",
    "# 遍历每个文件\n",
    "for idx_i, filename1 in enumerate(filenames):\n",
    "    # 提取当前文件对其他文件的相似度（排除自身）\n",
    "    similarity_scores = similarities[idx_i][np.arange(len(filenames)) != idx_i]\n",
    "    \n",
    "    # 计算当前文件的相似度中位数\n",
    "    median_similarity = np.median(similarity_scores)\n",
    "    \n",
    "    # 将文件名和中位数相似度保存到列表中\n",
    "    median_similarities.append({\"filename\": filename1, \"SBERT_median_similarity\": median_similarity})\n",
    "\n",
    "# 将文件名和中位数相似度保存到CSV文件\n",
    "median_df = pd.DataFrame(median_similarities)\n",
    "median_df.to_csv('240822 22-24M5_filtered_SBERT.csv', index=False)\n"
   ]
  }
 ],
 "metadata": {
  "kernelspec": {
   "display_name": "tingying",
   "language": "python",
   "name": "python3"
  },
  "language_info": {
   "codemirror_mode": {
    "name": "ipython",
    "version": 3
   },
   "file_extension": ".py",
   "mimetype": "text/x-python",
   "name": "python",
   "nbconvert_exporter": "python",
   "pygments_lexer": "ipython3",
   "version": "3.9.13"
  }
 },
 "nbformat": 4,
 "nbformat_minor": 2
}
