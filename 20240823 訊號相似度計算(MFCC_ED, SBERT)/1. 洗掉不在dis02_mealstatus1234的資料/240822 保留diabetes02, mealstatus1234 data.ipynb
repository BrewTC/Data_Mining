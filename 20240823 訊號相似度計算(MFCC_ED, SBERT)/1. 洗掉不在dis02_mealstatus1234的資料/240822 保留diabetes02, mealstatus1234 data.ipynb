{
 "cells": [
  {
   "cell_type": "markdown",
   "metadata": {},
   "source": [
    "### 2024/08/22 改寫版本\n",
    "#### 依照保有diabetes==0, 2  \n",
    "#### 以及mealstatus==1,2,3,4的資料，將資料另外儲存出來"
   ]
  },
  {
   "cell_type": "code",
   "execution_count": 4,
   "metadata": {},
   "outputs": [],
   "source": [
    "import pandas as pd\n",
    "\n",
    "# 读取数据\n",
    "df1 = pd.read_csv('22-23feedback切訊號及過濾波_500_add_diabetes_mealstatus.csv')\n",
    "df2 = pd.read_csv('24M1-M5feedback切訊號及過濾波_500_add_diabetes_mealstatus.csv')\n",
    "\n",
    "# 筛选条件\n",
    "conditions = {\n",
    "    'diabetes': [0, 2],\n",
    "    'mealstatus': [1, 2, 3, 4]\n",
    "}\n",
    "\n",
    "# 筛选df1\n",
    "df1_filtered = df1[\n",
    "    df1['diabetes'].isin(conditions['diabetes']) & \n",
    "    df1['mealstatus'].isin(conditions['mealstatus'])\n",
    "]\n",
    "\n",
    "# 删除'diabetes' 和 'mealstatus' 列\n",
    "df1_filtered = df1_filtered.drop(columns=['diabetes', 'mealstatus'])\n",
    "\n",
    "# 保存结果到CSV文件\n",
    "df1_filtered.to_csv('./filtered_no_diabetes_mealstatus(Done)/22-23feedback切訊號及過濾波_filtered_no_diabetes_mealstatus.csv', index=False)\n",
    "\n",
    "# -------------------------------------------------------------------------------\n",
    "# 筛选df2\n",
    "df2_filtered = df2[\n",
    "    df2['diabetes'].isin(conditions['diabetes']) & \n",
    "    df2['mealstatus'].isin(conditions['mealstatus'])\n",
    "]\n",
    "\n",
    "# 删除'diabetes' 和 'mealstatus' 列\n",
    "df2_filtered = df2_filtered.drop(columns=['diabetes', 'mealstatus'])\n",
    "\n",
    "# 保存结果到CSV文件\n",
    "df2_filtered.to_csv('./filtered_no_diabetes_mealstatus(Done)/24M1-M5feedback切訊號及過濾波_filtered_no_diabetes_mealstatus.csv', index=False)\n"
   ]
  },
  {
   "cell_type": "code",
   "execution_count": 5,
   "metadata": {},
   "outputs": [],
   "source": [
    "pd.concat([df1_filtered, df2_filtered], axis=0).to_csv('./filtered_no_diabetes_mealstatus(Done)/22-24M5_filtered_no_diabetes_mealstatus.csv', index=False)"
   ]
  }
 ],
 "metadata": {
  "kernelspec": {
   "display_name": "base",
   "language": "python",
   "name": "python3"
  },
  "language_info": {
   "codemirror_mode": {
    "name": "ipython",
    "version": 3
   },
   "file_extension": ".py",
   "mimetype": "text/x-python",
   "name": "python",
   "nbconvert_exporter": "python",
   "pygments_lexer": "ipython3",
   "version": "3.9.13"
  }
 },
 "nbformat": 4,
 "nbformat_minor": 2
}
